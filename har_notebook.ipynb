{
 "cells": [
  {
   "cell_type": "code",
   "execution_count": 1,
   "id": "bizarre-hello",
   "metadata": {},
   "outputs": [],
   "source": [
    "import warnings\n",
    "warnings.filterwarnings('ignore')"
   ]
  },
  {
   "cell_type": "code",
   "execution_count": 2,
   "id": "complex-welding",
   "metadata": {},
   "outputs": [],
   "source": [
    "import numpy as np\n",
    "import tensorflow as tf\n",
    "from tensorflow import keras\n",
    "import matplotlib.pyplot as plt\n",
    "import os"
   ]
  },
  {
   "cell_type": "code",
   "execution_count": 3,
   "id": "fundamental-accounting",
   "metadata": {},
   "outputs": [
    {
     "name": "stderr",
     "output_type": "stream",
     "text": [
      "Using TensorFlow backend.\n"
     ]
    }
   ],
   "source": [
    "from keras.layers import Dense,BatchNormalization,Input,LeakyReLU,Activation,Dropout\n",
    "from keras import Model\n",
    "from keras.optimizers import Adam\n",
    "from keras.regularizers import l2\n"
   ]
  },
  {
   "cell_type": "code",
   "execution_count": 4,
   "id": "warming-taste",
   "metadata": {},
   "outputs": [],
   "source": [
    "#Defining the dataset directories.\n",
    "train_dataset_dir=r'UCI HAR Dataset\\train'\n",
    "test_dataset_dir=r'UCI HAR Dataset\\test'\n"
   ]
  },
  {
   "cell_type": "code",
   "execution_count": 5,
   "id": "statewide-strength",
   "metadata": {},
   "outputs": [],
   "source": [
    "#Preparing training dataset\n",
    "x_train=np.loadtxt(os.path.join(train_dataset_dir,'x_train.txt'))\n",
    "\n",
    "y_train=np.loadtxt(os.path.join(train_dataset_dir,'y_train.txt')).reshape(7352,1)\n",
    "#Selecting the necessary feature\n",
    "x_train_orig=np.concatenate((x_train[:,19:25],x_train[:,37:40],x_train[:,59:65],x_train[:,77:80],x_train[:,117:120],x_train[:,197:200],x_train[:,344:347],x_train[:,363:366],x_train[:,443:445],x_train[:,502:504],x_train[:,515:517],x_train[:,528:530],x_train[:,541:543],x_train[:,554:]),axis=-1)"
   ]
  },
  {
   "cell_type": "code",
   "execution_count": 6,
   "id": "casual-steam",
   "metadata": {},
   "outputs": [
    {
     "data": {
      "text/plain": [
       "(7352, 561)"
      ]
     },
     "execution_count": 6,
     "metadata": {},
     "output_type": "execute_result"
    }
   ],
   "source": [
    "x_train.shape"
   ]
  },
  {
   "cell_type": "code",
   "execution_count": 7,
   "id": "knowing-italic",
   "metadata": {},
   "outputs": [],
   "source": [
    "#Preparing test dataset\n",
    "x_test=np.loadtxt(os.path.join(test_dataset_dir,'x_test.txt'))\n",
    "y_test=np.loadtxt(os.path.join(test_dataset_dir,'y_test.txt')).reshape(2947,1)\n",
    "#Selecting necessary features\n",
    "x_test_orig=np.concatenate((x_test[:,19:25],x_test[:,37:40],x_test[:,59:65],x_test[:,77:80],x_test[:,117:120],x_test[:,197:200],x_test[:,344:347],x_test[:,363:366],x_test[:,443:445],x_test[:,502:504],x_test[:,515:517],x_test[:,528:530],x_test[:,541:543],x_test[:,554:]),axis=-1)"
   ]
  },
  {
   "cell_type": "code",
   "execution_count": 8,
   "id": "aggregate-sending",
   "metadata": {},
   "outputs": [],
   "source": [
    "y_train=keras.utils.to_categorical(y_train).reshape(7352,7)\n",
    "\n",
    "y_test=keras.utils.to_categorical(y_test).reshape(2947,7)\n"
   ]
  },
  {
   "cell_type": "code",
   "execution_count": 9,
   "id": "annoying-drive",
   "metadata": {},
   "outputs": [
    {
     "name": "stdout",
     "output_type": "stream",
     "text": [
      "(7352, 7)\n"
     ]
    }
   ],
   "source": [
    "print(y_train.shape)"
   ]
  },
  {
   "cell_type": "code",
   "execution_count": 10,
   "id": "comfortable-drive",
   "metadata": {},
   "outputs": [
    {
     "name": "stdout",
     "output_type": "stream",
     "text": [
      "(7352, 6) (2947, 6)\n"
     ]
    }
   ],
   "source": [
    "y_train_orig=y_train[:,1:]\n",
    "y_test_orig=y_test[:,1:]\n",
    "print(y_train_orig.shape,y_test_orig.shape)"
   ]
  },
  {
   "cell_type": "code",
   "execution_count": 11,
   "id": "distributed-dylan",
   "metadata": {},
   "outputs": [
    {
     "name": "stdout",
     "output_type": "stream",
     "text": [
      "(7352, 6)\n"
     ]
    }
   ],
   "source": [
    "print(y_train_orig.shape)"
   ]
  },
  {
   "cell_type": "code",
   "execution_count": 12,
   "id": "turned-adobe",
   "metadata": {},
   "outputs": [],
   "source": [
    "#Writing a callback function \n",
    "class Mycallback(tf.keras.callbacks.Callback):\n",
    "    def on_epoch_end(self,epochs,logs={}):\n",
    "        if logs.get('acc')>=.99:\n",
    "            self.model.stop_training=True\n",
    "callback=Mycallback()"
   ]
  },
  {
   "cell_type": "code",
   "execution_count": 18,
   "id": "professional-context",
   "metadata": {},
   "outputs": [],
   "source": [
    "#Keras Functional API\n",
    "def Mymodel(input_shape):\n",
    "    X_inp=Input(input_shape)\n",
    "   \n",
    "    X=Dense(400,activation='relu')(X_inp)\n",
    "    X=Dropout(.2)(X)\n",
    "    X=Dense(320,activation='relu')(X)\n",
    "    \n",
    "    \n",
    "    X=Dense(160,activation='relu')(X)\n",
    "    X=Dropout(.1)(X)\n",
    "    X=Dense(72,activation='relu')(X)\n",
    "    X=Dropout(.2)(X)\n",
    "    X=Dense(6,activation='softmax')(X)\n",
    "    mymodel=Model(inputs=X_inp,outputs=X)\n",
    "    return mymodel"
   ]
  },
  {
   "cell_type": "code",
   "execution_count": 19,
   "id": "arranged-password",
   "metadata": {},
   "outputs": [],
   "source": [
    "#Defining a model\n",
    "model_1=Mymodel([561])\n"
   ]
  },
  {
   "cell_type": "code",
   "execution_count": 20,
   "id": "olive-weekly",
   "metadata": {},
   "outputs": [
    {
     "name": "stdout",
     "output_type": "stream",
     "text": [
      "Model: \"model_2\"\n",
      "_________________________________________________________________\n",
      "Layer (type)                 Output Shape              Param #   \n",
      "=================================================================\n",
      "input_2 (InputLayer)         (None, 561)               0         \n",
      "_________________________________________________________________\n",
      "dense_7 (Dense)              (None, 400)               224800    \n",
      "_________________________________________________________________\n",
      "dropout_3 (Dropout)          (None, 400)               0         \n",
      "_________________________________________________________________\n",
      "dense_8 (Dense)              (None, 320)               128320    \n",
      "_________________________________________________________________\n",
      "dense_9 (Dense)              (None, 160)               51360     \n",
      "_________________________________________________________________\n",
      "dropout_4 (Dropout)          (None, 160)               0         \n",
      "_________________________________________________________________\n",
      "dense_10 (Dense)             (None, 72)                11592     \n",
      "_________________________________________________________________\n",
      "dropout_5 (Dropout)          (None, 72)                0         \n",
      "_________________________________________________________________\n",
      "dense_11 (Dense)             (None, 6)                 438       \n",
      "=================================================================\n",
      "Total params: 416,510\n",
      "Trainable params: 416,510\n",
      "Non-trainable params: 0\n",
      "_________________________________________________________________\n"
     ]
    }
   ],
   "source": [
    "#Printing summary\n",
    "model_1.summary()\n",
    "\n",
    "\n"
   ]
  },
  {
   "cell_type": "code",
   "execution_count": 23,
   "id": "reserved-vertex",
   "metadata": {},
   "outputs": [],
   "source": [
    "#Compiling the model\n",
    "model_1.compile(optimizer='sgd',loss='categorical_crossentropy',metrics=['acc'])"
   ]
  },
  {
   "cell_type": "code",
   "execution_count": 24,
   "id": "solar-projector",
   "metadata": {},
   "outputs": [
    {
     "name": "stdout",
     "output_type": "stream",
     "text": [
      "Epoch 1/150\n",
      "7352/7352 [==============================] - 3s 354us/step - loss: 0.0454 - acc: 0.9823\n",
      "Epoch 2/150\n",
      "7352/7352 [==============================] - 3s 341us/step - loss: 0.0454 - acc: 0.9827\n",
      "Epoch 3/150\n",
      "7352/7352 [==============================] - 3s 341us/step - loss: 0.0429 - acc: 0.9845\n",
      "Epoch 4/150\n",
      "7352/7352 [==============================] - 2s 338us/step - loss: 0.0411 - acc: 0.9844\n",
      "Epoch 5/150\n",
      "7352/7352 [==============================] - 2s 339us/step - loss: 0.0398 - acc: 0.9852\n",
      "Epoch 6/150\n",
      "7352/7352 [==============================] - 3s 340us/step - loss: 0.0383 - acc: 0.9863\n",
      "Epoch 7/150\n",
      "7352/7352 [==============================] - 3s 341us/step - loss: 0.0394 - acc: 0.9867\n",
      "Epoch 8/150\n",
      "7352/7352 [==============================] - 3s 341us/step - loss: 0.0402 - acc: 0.9837\n",
      "Epoch 9/150\n",
      "7352/7352 [==============================] - 3s 342us/step - loss: 0.0402 - acc: 0.9860\n",
      "Epoch 10/150\n",
      "7352/7352 [==============================] - 3s 362us/step - loss: 0.0393 - acc: 0.9859\n",
      "Epoch 11/150\n",
      "7352/7352 [==============================] - 3s 376us/step - loss: 0.0405 - acc: 0.9863\n",
      "Epoch 12/150\n",
      "7352/7352 [==============================] - 3s 373us/step - loss: 0.0364 - acc: 0.9861\n",
      "Epoch 13/150\n",
      "7352/7352 [==============================] - 3s 380us/step - loss: 0.0369 - acc: 0.9867\n",
      "Epoch 14/150\n",
      "7352/7352 [==============================] - 3s 379us/step - loss: 0.0383 - acc: 0.9848\n",
      "Epoch 15/150\n",
      "7352/7352 [==============================] - 3s 378us/step - loss: 0.0383 - acc: 0.9845\n",
      "Epoch 16/150\n",
      "7352/7352 [==============================] - 3s 374us/step - loss: 0.0349 - acc: 0.9868\n",
      "Epoch 17/150\n",
      "7352/7352 [==============================] - 3s 377us/step - loss: 0.0367 - acc: 0.9865\n",
      "Epoch 18/150\n",
      "7352/7352 [==============================] - 3s 381us/step - loss: 0.0361 - acc: 0.9868\n",
      "Epoch 19/150\n",
      "7352/7352 [==============================] - 2s 308us/step - loss: 0.0367 - acc: 0.9853\n",
      "Epoch 20/150\n",
      "7352/7352 [==============================] - 2s 263us/step - loss: 0.0357 - acc: 0.9867\n",
      "Epoch 21/150\n",
      "7352/7352 [==============================] - 2s 262us/step - loss: 0.0384 - acc: 0.9844\n",
      "Epoch 22/150\n",
      "7352/7352 [==============================] - 2s 262us/step - loss: 0.0335 - acc: 0.9875\n",
      "Epoch 23/150\n",
      "7352/7352 [==============================] - 2s 264us/step - loss: 0.0351 - acc: 0.9859\n",
      "Epoch 24/150\n",
      "7352/7352 [==============================] - 2s 265us/step - loss: 0.0377 - acc: 0.9871\n",
      "Epoch 25/150\n",
      "7352/7352 [==============================] - 2s 265us/step - loss: 0.0348 - acc: 0.9863\n",
      "Epoch 26/150\n",
      "7352/7352 [==============================] - 2s 278us/step - loss: 0.0325 - acc: 0.9868\n",
      "Epoch 27/150\n",
      "7352/7352 [==============================] - 3s 345us/step - loss: 0.0361 - acc: 0.9878\n",
      "Epoch 28/150\n",
      "7352/7352 [==============================] - 3s 371us/step - loss: 0.0348 - acc: 0.9868\n",
      "Epoch 29/150\n",
      "7352/7352 [==============================] - 3s 376us/step - loss: 0.0366 - acc: 0.9863\n",
      "Epoch 30/150\n",
      "7352/7352 [==============================] - 3s 380us/step - loss: 0.0340 - acc: 0.9868\n",
      "Epoch 31/150\n",
      "7352/7352 [==============================] - 3s 374us/step - loss: 0.0322 - acc: 0.9869\n",
      "Epoch 32/150\n",
      "7352/7352 [==============================] - 3s 379us/step - loss: 0.0349 - acc: 0.9842\n",
      "Epoch 33/150\n",
      "7352/7352 [==============================] - 3s 378us/step - loss: 0.0331 - acc: 0.9865\n",
      "Epoch 34/150\n",
      "7352/7352 [==============================] - 3s 380us/step - loss: 0.0336 - acc: 0.9853\n",
      "Epoch 35/150\n",
      "7352/7352 [==============================] - 3s 378us/step - loss: 0.0338 - acc: 0.9880\n",
      "Epoch 36/150\n",
      "7352/7352 [==============================] - 3s 375us/step - loss: 0.0331 - acc: 0.9868\n",
      "Epoch 37/150\n",
      "7352/7352 [==============================] - 3s 378us/step - loss: 0.0343 - acc: 0.9865\n",
      "Epoch 38/150\n",
      "7352/7352 [==============================] - 3s 375us/step - loss: 0.0340 - acc: 0.9874\n",
      "Epoch 39/150\n",
      "7352/7352 [==============================] - 3s 379us/step - loss: 0.0329 - acc: 0.9859\n",
      "Epoch 40/150\n",
      "7352/7352 [==============================] - 3s 378us/step - loss: 0.0344 - acc: 0.9867\n",
      "Epoch 41/150\n",
      "7352/7352 [==============================] - 3s 379us/step - loss: 0.0309 - acc: 0.9883\n",
      "Epoch 42/150\n",
      "7352/7352 [==============================] - 3s 373us/step - loss: 0.0355 - acc: 0.9872\n",
      "Epoch 43/150\n",
      "7352/7352 [==============================] - 3s 380us/step - loss: 0.0330 - acc: 0.9864 0s - loss: 0.0336 - \n",
      "Epoch 44/150\n",
      "7352/7352 [==============================] - 3s 374us/step - loss: 0.0306 - acc: 0.9879\n",
      "Epoch 45/150\n",
      "7352/7352 [==============================] - 3s 379us/step - loss: 0.0308 - acc: 0.9886\n",
      "Epoch 46/150\n",
      "7352/7352 [==============================] - 3s 379us/step - loss: 0.0293 - acc: 0.9888\n",
      "Epoch 47/150\n",
      "7352/7352 [==============================] - 3s 376us/step - loss: 0.0305 - acc: 0.9883\n",
      "Epoch 48/150\n",
      "7352/7352 [==============================] - 3s 375us/step - loss: 0.0291 - acc: 0.9888\n",
      "Epoch 49/150\n",
      "7352/7352 [==============================] - 3s 380us/step - loss: 0.0343 - acc: 0.9880\n",
      "Epoch 50/150\n",
      "7352/7352 [==============================] - 3s 346us/step - loss: 0.0323 - acc: 0.9863\n",
      "Epoch 51/150\n",
      "7352/7352 [==============================] - 3s 344us/step - loss: 0.0296 - acc: 0.9887\n",
      "Epoch 52/150\n",
      "7352/7352 [==============================] - 2s 274us/step - loss: 0.0322 - acc: 0.9878\n",
      "Epoch 53/150\n",
      "7352/7352 [==============================] - 2s 243us/step - loss: 0.0320 - acc: 0.9882\n",
      "Epoch 54/150\n",
      "7352/7352 [==============================] - 2s 310us/step - loss: 0.0309 - acc: 0.9890\n",
      "Epoch 55/150\n",
      "7352/7352 [==============================] - 3s 346us/step - loss: 0.0302 - acc: 0.9875\n",
      "Epoch 56/150\n",
      "7352/7352 [==============================] - 3s 344us/step - loss: 0.0301 - acc: 0.9875\n",
      "Epoch 57/150\n",
      "7352/7352 [==============================] - 3s 348us/step - loss: 0.0307 - acc: 0.9880\n",
      "Epoch 58/150\n",
      "7352/7352 [==============================] - 2s 253us/step - loss: 0.0287 - acc: 0.9895\n",
      "Epoch 59/150\n",
      "7352/7352 [==============================] - 2s 317us/step - loss: 0.0296 - acc: 0.9880\n",
      "Epoch 60/150\n",
      "7352/7352 [==============================] - 3s 383us/step - loss: 0.0281 - acc: 0.9897\n",
      "Epoch 61/150\n",
      "7352/7352 [==============================] - 3s 379us/step - loss: 0.0309 - acc: 0.9876\n",
      "Epoch 62/150\n",
      "7352/7352 [==============================] - 2s 313us/step - loss: 0.0281 - acc: 0.9897\n",
      "Epoch 63/150\n",
      "7352/7352 [==============================] - 2s 206us/step - loss: 0.0277 - acc: 0.9897\n",
      "Epoch 64/150\n",
      "7352/7352 [==============================] - 2s 205us/step - loss: 0.0278 - acc: 0.9898\n",
      "Epoch 65/150\n",
      "7352/7352 [==============================] - 2s 206us/step - loss: 0.0292 - acc: 0.9882\n",
      "Epoch 66/150\n",
      "7352/7352 [==============================] - 2s 204us/step - loss: 0.0309 - acc: 0.9890\n",
      "Epoch 67/150\n",
      "7352/7352 [==============================] - 2s 205us/step - loss: 0.0284 - acc: 0.9887\n",
      "Epoch 68/150\n",
      "7352/7352 [==============================] - 2s 205us/step - loss: 0.0307 - acc: 0.9887\n",
      "Epoch 69/150\n",
      "7352/7352 [==============================] - 2s 206us/step - loss: 0.0272 - acc: 0.9910\n"
     ]
    }
   ],
   "source": [
    "#Model Training\n",
    "hist=model_1.fit(x_train,y_train_orig,epochs=150,callbacks=[callback])"
   ]
  },
  {
   "cell_type": "code",
   "execution_count": 25,
   "id": "grave-listening",
   "metadata": {},
   "outputs": [
    {
     "data": {
      "text/plain": [
       "Text(0, 0.5, 'loss')"
      ]
     },
     "execution_count": 25,
     "metadata": {},
     "output_type": "execute_result"
    },
    {
     "data": {
      "image/png": "[encoded data removed]",
      "text/plain": [
       "<Figure size 432x288 with 1 Axes>"
      ]
     },
     "metadata": {
      "needs_background": "light"
     },
     "output_type": "display_data"
    }
   ],
   "source": [
    "\n",
    "plt.plot(hist.history['loss'])\n",
    "plt.xlabel('epochs')\n",
    "plt.ylabel('loss')\n"
   ]
  },
  {
   "cell_type": "code",
   "execution_count": 27,
   "id": "cultural-austria",
   "metadata": {},
   "outputs": [
    {
     "name": "stdout",
     "output_type": "stream",
     "text": [
      "2947/2947 [==============================] - 1s 254us/step\n"
     ]
    }
   ],
   "source": [
    "loss,acc=model_1.evaluate(x_test,y_test_orig)"
   ]
  },
  {
   "cell_type": "code",
   "execution_count": 30,
   "id": "wanted-hungary",
   "metadata": {},
   "outputs": [
    {
     "name": "stdout",
     "output_type": "stream",
     "text": [
      "95.75839638710022 0.18903594496787646\n"
     ]
    }
   ],
   "source": [
    "print(acc*100,loss)"
   ]
  },
  {
   "cell_type": "code",
   "execution_count": null,
   "id": "answering-pricing",
   "metadata": {},
   "outputs": [],
   "source": []
  }
 ],
 "metadata": {
  "kernelspec": {
   "display_name": "Python3.6",
   "language": "python",
   "name": "python3.6"
  },
  "language_info": {
   "codemirror_mode": {
    "name": "ipython",
    "version": 3
   },
   "file_extension": ".py",
   "mimetype": "text/x-python",
   "name": "python",
   "nbconvert_exporter": "python",
   "pygments_lexer": "ipython3",
   "version": "3.6.12"
  }
 },
 "nbformat": 4,
 "nbformat_minor": 5
}
